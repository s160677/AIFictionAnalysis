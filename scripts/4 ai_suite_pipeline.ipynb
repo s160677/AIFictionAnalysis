{
 "cells": [
  {
   "cell_type": "code",
   "execution_count": 8,
   "metadata": {},
   "outputs": [],
   "source": [
    "import pandas as pd\n",
    "import csv\n",
    "import json\n",
    "import aisuite as ai\n",
    "import re\n",
    "client = ai.Client()"
   ]
  },
  {
   "cell_type": "code",
   "execution_count": 9,
   "metadata": {},
   "outputs": [],
   "source": [
    "with open('../data/questions.json', 'r') as f:\n",
    "    questions_data = json.load(f)\n",
    "    questions = [entry[\"binary\"] for entry in questions_data[10:13]] #working with 3 questions for now\n",
    "    statements = [entry[\"likert\"] for entry in questions_data[10:13]]\n",
    "\n",
    "# load the full summary dataframe\n",
    "df = pd.read_csv('../data/movie_book_dataframe.csv')\n",
    "\n",
    "# extract synopsis to run a test\n",
    "test_summaries = df[df['Title'].isin(['Snowpiercer', 'Dracula'])]\n",
    "\n",
    "# select models\n",
    "models = [\"openai:gpt-4o-mini\"] #\"anthropic:claude-3-5-sonnet-20240620\""
   ]
  },
  {
   "cell_type": "code",
   "execution_count": 10,
   "metadata": {},
   "outputs": [],
   "source": [
    "all_prompts = [\n",
    "    {\n",
    "        \"title\": row['Title'],\n",
    "        \"summary\": row['Summary'],\n",
    "        \"binary\": \n",
    "        { \"messages\": [\n",
    "            {\"role\": \"system\", \"content\": \n",
    "             \"You are a story analyzer. Your task is to analyze synopses regarding a specific question. Your answers have this structure <Reasoning></Reasoning> <Final response>yes/no</Final response>\"}, \n",
    "            {\"role\": \"user\", \"content\": f\"<Synopsis> {row['Summary']} </Synopsis> <Question>Answer the following question: {question}</Question>\"}\n",
    "        ]} ,\n",
    "        \"likert\": {\"messages\": [\n",
    "            {\"role\": \"system\", \"content\": \n",
    "             \"You are a story analyzer. Your task is to analyze synopses regarding a given hypothesis. You indicate your agreement on a scale from 1 (strongly disagree) to 7 (strongly agree). Your answers have this structure <Reasoning></Reasoning> <Final response>1-7</Final response>\"}, \n",
    "            {\"role\": \"user\", \"content\": f\"<Synopsis> {row['Summary']} </Synopsis> <Question>How much do you agree with the following statement (1-7): {statement}</Question>\"}\n",
    "        ]}\n",
    "    }\n",
    "    for _, row in test_summaries.iterrows()\n",
    "    for question, statement in zip(questions, statements)\n",
    "]"
   ]
  },
  {
   "cell_type": "code",
   "execution_count": 12,
   "metadata": {},
   "outputs": [],
   "source": [
    "for model in models:\n",
    "    for i in range(len(all_prompts)):\n",
    "        question_prompt = all_prompts[i][\"binary\"][\"messages\"]\n",
    "        statement_prompt = all_prompts[i][\"likert\"][\"messages\"]\n",
    "\n",
    "        binary_response = client.chat.completions.create(\n",
    "        model=model,\n",
    "        messages=question_prompt,\n",
    "        temperature=0)\n",
    "\n",
    "        likert_response = client.chat.completions.create(\n",
    "        model=model,\n",
    "        messages=statement_prompt,\n",
    "        temperature=0)\n",
    "\n",
    "        all_prompts[i][\"binary\"][model] = binary_response.choices[0].message.content\n",
    "        all_prompts[i][\"likert\"][model] = likert_response.choices[0].message.content\n",
    "\n",
    "        binary_match = re.search(r\"<Final response>(.*?)</Final response>\", all_prompts[i][\"binary\"][model])\n",
    "        all_prompts[i][\"binary\"][f\"final_{model}\"] = binary_match.group(1).strip() if binary_match else None\n",
    "\n",
    "        # Extract likert response\n",
    "        likert_match = re.search(r\"<Final response>(\\d+)</Final response>\", all_prompts[i][\"likert\"][model])\n",
    "        all_prompts[i][\"likert\"][f\"final_{model}\"] = int(likert_match.group(1)) if likert_match else None\n",
    "\n",
    "        #update json file\n",
    "        with open('../data/ai_responses.json', 'w') as f:\n",
    "            json.dump(all_prompts, f, indent=4)"
   ]
  }
 ],
 "metadata": {
  "kernelspec": {
   "display_name": "venv",
   "language": "python",
   "name": "python3"
  },
  "language_info": {
   "codemirror_mode": {
    "name": "ipython",
    "version": 3
   },
   "file_extension": ".py",
   "mimetype": "text/x-python",
   "name": "python",
   "nbconvert_exporter": "python",
   "pygments_lexer": "ipython3",
   "version": "3.12.5"
  }
 },
 "nbformat": 4,
 "nbformat_minor": 2
}
